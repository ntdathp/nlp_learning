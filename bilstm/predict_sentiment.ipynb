{
 "cells": [
  {
   "cell_type": "code",
   "execution_count": 1,
   "id": "ad039d71",
   "metadata": {},
   "outputs": [
    {
     "name": "stderr",
     "output_type": "stream",
     "text": [
      "2025-09-27 00:21:07.464366: I tensorflow/core/util/port.cc:110] oneDNN custom operations are on. You may see slightly different numerical results due to floating-point round-off errors from different computation orders. To turn them off, set the environment variable `TF_ENABLE_ONEDNN_OPTS=0`.\n",
      "2025-09-27 00:21:07.465366: I tensorflow/tsl/cuda/cudart_stub.cc:28] Could not find cuda drivers on your machine, GPU will not be used.\n",
      "2025-09-27 00:21:07.485017: I tensorflow/tsl/cuda/cudart_stub.cc:28] Could not find cuda drivers on your machine, GPU will not be used.\n",
      "2025-09-27 00:21:07.485784: I tensorflow/core/platform/cpu_feature_guard.cc:182] This TensorFlow binary is optimized to use available CPU instructions in performance-critical operations.\n",
      "To enable the following instructions: AVX2 AVX_VNNI FMA, in other operations, rebuild TensorFlow with the appropriate compiler flags.\n",
      "2025-09-27 00:21:07.779372: W tensorflow/compiler/tf2tensorrt/utils/py_utils.cc:38] TF-TRT Warning: Could not find TensorRT\n"
     ]
    }
   ],
   "source": [
    "import os, json\n",
    "import numpy as np\n",
    "import pandas as pd\n",
    "import tensorflow as tf\n",
    "import matplotlib.pyplot as plt\n",
    "import seaborn as sns\n",
    "\n",
    "from sklearn.metrics import confusion_matrix, classification_report, accuracy_score, precision_recall_fscore_support\n"
   ]
  },
  {
   "cell_type": "code",
   "execution_count": 2,
   "id": "7c39460b",
   "metadata": {},
   "outputs": [],
   "source": [
    "def load_labels(model_dir):\n",
    "    with open(os.path.join(model_dir, \"label_map.json\"), \"r\", encoding=\"utf-8\") as f:\n",
    "        m = json.load(f)\n",
    "    id2label = {int(k): v for k, v in m[\"id2label\"].items()}\n",
    "    return id2label\n",
    "\n",
    "def try_load_keras(model_dir):\n",
    "    return tf.keras.models.load_model(model_dir, compile=False)\n",
    "\n",
    "def try_load_savedmodel(model_dir):\n",
    "    sm = tf.saved_model.load(model_dir)\n",
    "    infer = sm.signatures.get(\"serving_default\", None)\n",
    "    if infer is None:\n",
    "        raise ValueError(\"No 'serving_default' signature in SavedModel.\")\n",
    "    return infer\n"
   ]
  },
  {
   "cell_type": "code",
   "execution_count": 3,
   "id": "59a70ef9",
   "metadata": {},
   "outputs": [],
   "source": [
    "def load_labels(model_dir):\n",
    "    with open(os.path.join(model_dir, \"label_map.json\"), \"r\", encoding=\"utf-8\") as f:\n",
    "        m = json.load(f)\n",
    "    id2label = {int(k): v for k, v in m[\"id2label\"].items()}\n",
    "    return id2label\n",
    "\n",
    "def try_load_keras(model_dir):\n",
    "    return tf.keras.models.load_model(model_dir, compile=False)\n",
    "\n",
    "def try_load_savedmodel(model_dir):\n",
    "    sm = tf.saved_model.load(model_dir)\n",
    "    infer = sm.signatures.get(\"serving_default\", None)\n",
    "    if infer is None:\n",
    "        raise ValueError(\"No 'serving_default' signature in SavedModel.\")\n",
    "    return infer\n"
   ]
  },
  {
   "cell_type": "code",
   "execution_count": 4,
   "id": "ca2d9d2e",
   "metadata": {},
   "outputs": [],
   "source": [
    "def predict_texts(model_or_fn, id2label, texts, batch_size=32, is_keras=True):\n",
    "    if is_keras:\n",
    "        ds = tf.data.Dataset.from_tensor_slices(texts).batch(batch_size)\n",
    "        probs = model_or_fn.predict(ds)\n",
    "    else:\n",
    "        try:\n",
    "            out = model_or_fn(text=tf.constant(texts, dtype=tf.string)[:, None])\n",
    "        except Exception:\n",
    "            out = model_or_fn(text=tf.constant(texts, dtype=tf.string))\n",
    "        probs = next(iter(out.values())).numpy()\n",
    "\n",
    "    idx = probs.argmax(axis=1)\n",
    "    conf = probs[np.arange(len(texts)), idx]\n",
    "    labels = [id2label[int(i)] for i in idx]\n",
    "    return labels, conf, probs\n"
   ]
  },
  {
   "cell_type": "code",
   "execution_count": 5,
   "id": "5d7b4a97",
   "metadata": {},
   "outputs": [],
   "source": [
    "def predict_texts(model_or_fn, id2label, texts, batch_size=32, is_keras=True):\n",
    "    if is_keras:\n",
    "        ds = tf.data.Dataset.from_tensor_slices(texts).batch(batch_size)\n",
    "        probs = model_or_fn.predict(ds)\n",
    "    else:\n",
    "        try:\n",
    "            out = model_or_fn(text=tf.constant(texts, dtype=tf.string)[:, None])\n",
    "        except Exception:\n",
    "            out = model_or_fn(text=tf.constant(texts, dtype=tf.string))\n",
    "        probs = next(iter(out.values())).numpy()\n",
    "\n",
    "    idx = probs.argmax(axis=1)\n",
    "    conf = probs[np.arange(len(texts)), idx]\n",
    "    labels = [id2label[int(i)] for i in idx]\n",
    "    return labels, conf, probs\n"
   ]
  },
  {
   "cell_type": "code",
   "execution_count": 6,
   "id": "d0916b0b",
   "metadata": {},
   "outputs": [
    {
     "name": "stdout",
     "output_type": "stream",
     "text": [
      "WARNING:tensorflow:SavedModel saved prior to TF 2.5 detected when loading Keras model. Please ensure that you are saving the model with model.save() or tf.keras.models.save_model(), *NOT* tf.saved_model.save(). To confirm, there should be a file named \"keras_metadata.pb\" in the SavedModel directory.\n"
     ]
    },
    {
     "name": "stderr",
     "output_type": "stream",
     "text": [
      "2025-09-27 00:21:13.861402: I tensorflow/compiler/xla/stream_executor/cuda/cuda_gpu_executor.cc:995] successful NUMA node read from SysFS had negative value (-1), but there must be at least one NUMA node, so returning NUMA node zero. See more at https://github.com/torvalds/linux/blob/v6.0/Documentation/ABI/testing/sysfs-bus-pci#L344-L355\n",
      "2025-09-27 00:21:13.863478: W tensorflow/core/common_runtime/gpu/gpu_device.cc:1960] Cannot dlopen some GPU libraries. Please make sure the missing libraries mentioned above are installed properly if you would like to use GPU. Follow the guide at https://www.tensorflow.org/install/gpu for how to download and setup the required libraries for your platform.\n",
      "Skipping registering GPU devices...\n",
      "2025-09-27 00:21:14.260836: W tensorflow/core/common_runtime/graph_constructor.cc:834] Node 'cond/while' has 14 outputs but the _output_shapes attribute specifies shapes for 48 outputs. Output shapes may be inaccurate.\n",
      "2025-09-27 00:21:14.263833: W tensorflow/core/common_runtime/graph_constructor.cc:834] Node 'cond' has 5 outputs but the _output_shapes attribute specifies shapes for 48 outputs. Output shapes may be inaccurate.\n",
      "2025-09-27 00:21:14.285311: W tensorflow/core/common_runtime/graph_constructor.cc:834] Node 'cond/while' has 14 outputs but the _output_shapes attribute specifies shapes for 48 outputs. Output shapes may be inaccurate.\n",
      "2025-09-27 00:21:14.299087: W tensorflow/core/common_runtime/graph_constructor.cc:834] Node 'cond/while' has 14 outputs but the _output_shapes attribute specifies shapes for 48 outputs. Output shapes may be inaccurate.\n",
      "2025-09-27 00:21:14.424230: W tensorflow/core/common_runtime/graph_constructor.cc:834] Node 'cond/while' has 14 outputs but the _output_shapes attribute specifies shapes for 48 outputs. Output shapes may be inaccurate.\n",
      "2025-09-27 00:21:14.440315: W tensorflow/core/common_runtime/graph_constructor.cc:834] Node 'cond' has 5 outputs but the _output_shapes attribute specifies shapes for 48 outputs. Output shapes may be inaccurate.\n",
      "2025-09-27 00:21:14.476869: W tensorflow/core/common_runtime/graph_constructor.cc:834] Node 'cond' has 5 outputs but the _output_shapes attribute specifies shapes for 48 outputs. Output shapes may be inaccurate.\n",
      "2025-09-27 00:21:14.508137: W tensorflow/core/common_runtime/graph_constructor.cc:834] Node 'cond/while' has 14 outputs but the _output_shapes attribute specifies shapes for 48 outputs. Output shapes may be inaccurate.\n",
      "2025-09-27 00:21:14.623031: W tensorflow/core/common_runtime/graph_constructor.cc:834] Node 'cond/while' has 14 outputs but the _output_shapes attribute specifies shapes for 48 outputs. Output shapes may be inaccurate.\n",
      "2025-09-27 00:21:14.676598: W tensorflow/core/common_runtime/graph_constructor.cc:834] Node 'cond' has 5 outputs but the _output_shapes attribute specifies shapes for 48 outputs. Output shapes may be inaccurate.\n",
      "2025-09-27 00:21:14.742574: W tensorflow/core/common_runtime/graph_constructor.cc:834] Node 'cond/while' has 14 outputs but the _output_shapes attribute specifies shapes for 48 outputs. Output shapes may be inaccurate.\n",
      "2025-09-27 00:21:14.746719: W tensorflow/core/common_runtime/graph_constructor.cc:834] Node 'cond' has 5 outputs but the _output_shapes attribute specifies shapes for 48 outputs. Output shapes may be inaccurate.\n",
      "2025-09-27 00:21:14.791914: W tensorflow/core/common_runtime/graph_constructor.cc:834] Node 'cond' has 5 outputs but the _output_shapes attribute specifies shapes for 48 outputs. Output shapes may be inaccurate.\n",
      "2025-09-27 00:21:14.831116: W tensorflow/core/common_runtime/graph_constructor.cc:834] Node 'cond/while' has 14 outputs but the _output_shapes attribute specifies shapes for 48 outputs. Output shapes may be inaccurate.\n",
      "2025-09-27 00:21:14.949533: W tensorflow/core/common_runtime/graph_constructor.cc:834] Node 'cond/while' has 14 outputs but the _output_shapes attribute specifies shapes for 48 outputs. Output shapes may be inaccurate.\n",
      "2025-09-27 00:21:14.952638: W tensorflow/core/common_runtime/graph_constructor.cc:834] Node 'cond' has 5 outputs but the _output_shapes attribute specifies shapes for 48 outputs. Output shapes may be inaccurate.\n",
      "2025-09-27 00:21:15.058438: W tensorflow/core/common_runtime/graph_constructor.cc:834] Node 'cond/while' has 14 outputs but the _output_shapes attribute specifies shapes for 48 outputs. Output shapes may be inaccurate.\n",
      "2025-09-27 00:21:15.061358: W tensorflow/core/common_runtime/graph_constructor.cc:834] Node 'cond' has 5 outputs but the _output_shapes attribute specifies shapes for 48 outputs. Output shapes may be inaccurate.\n",
      "2025-09-27 00:21:15.126171: W tensorflow/core/common_runtime/graph_constructor.cc:834] Node 'cond' has 5 outputs but the _output_shapes attribute specifies shapes for 48 outputs. Output shapes may be inaccurate.\n",
      "2025-09-27 00:21:15.185903: W tensorflow/core/common_runtime/graph_constructor.cc:834] Node 'cond' has 5 outputs but the _output_shapes attribute specifies shapes for 48 outputs. Output shapes may be inaccurate.\n"
     ]
    }
   ],
   "source": [
    "# đường dẫn model & file CSV\n",
    "model_dir = \"bilstm_vn_sentiment_multiclass\"\n",
    "csv_file = \"/home/dat/llm_ws/data/test/vn_product_reviews_test_100_challenge.csv\"   # file CSV có cột 'text' và 'label'\n",
    "\n",
    "# load label map\n",
    "id2label = load_labels(model_dir)\n",
    "\n",
    "# load model\n",
    "is_keras = True\n",
    "try:\n",
    "    model_or_fn = try_load_keras(model_dir)\n",
    "except:\n",
    "    model_or_fn = try_load_savedmodel(model_dir)\n",
    "    is_keras = False\n",
    "\n",
    "# đọc dữ liệu\n",
    "df = pd.read_csv(csv_file)\n",
    "texts = df[\"text\"].astype(str).tolist()\n",
    "true_labels = df[\"label\"].tolist()\n",
    "\n",
    "# dự đoán\n",
    "pred_labels, conf, probs = predict_texts(model_or_fn, id2label, texts, is_keras=is_keras)\n"
   ]
  },
  {
   "cell_type": "code",
   "execution_count": 7,
   "id": "fcfa0017",
   "metadata": {},
   "outputs": [
    {
     "data": {
      "image/png": "[encoded data removed]",
      "text/plain": [
       "<Figure size 600x500 with 2 Axes>"
      ]
     },
     "metadata": {},
     "output_type": "display_data"
    }
   ],
   "source": [
    "cm = confusion_matrix(true_labels, pred_labels, labels=list(id2label.values()))\n",
    "\n",
    "plt.figure(figsize=(6,5))\n",
    "sns.heatmap(cm, annot=True, fmt=\"d\", cmap=\"Blues\",\n",
    "            xticklabels=list(id2label.values()),\n",
    "            yticklabels=list(id2label.values()))\n",
    "plt.xlabel(\"Predicted\")\n",
    "plt.ylabel(\"True\")\n",
    "plt.title(\"Confusion Matrix\")\n",
    "plt.show()\n"
   ]
  },
  {
   "cell_type": "code",
   "execution_count": 8,
   "id": "ad3269f9",
   "metadata": {},
   "outputs": [
    {
     "name": "stdout",
     "output_type": "stream",
     "text": [
      "Classification Report:\n",
      "               precision    recall  f1-score   support\n",
      "\n",
      "     negative      1.000     1.000     1.000        20\n",
      "      neutral      1.000     1.000     1.000        20\n",
      "     positive      1.000     1.000     1.000        20\n",
      "very_negative      1.000     1.000     1.000        20\n",
      "very_positive      1.000     1.000     1.000        20\n",
      "\n",
      "     accuracy                          1.000       100\n",
      "    macro avg      1.000     1.000     1.000       100\n",
      " weighted avg      1.000     1.000     1.000       100\n",
      "\n",
      "Accuracy: 1.000\n",
      "Precision: 1.000\n",
      "Recall: 1.000\n",
      "F1-score: 1.000\n"
     ]
    }
   ],
   "source": [
    "print(\"Classification Report:\")\n",
    "print(classification_report(true_labels, pred_labels, digits=3))\n",
    "\n",
    "accuracy = accuracy_score(true_labels, pred_labels)\n",
    "prec, rec, f1, _ = precision_recall_fscore_support(true_labels, pred_labels, average='weighted')\n",
    "\n",
    "print(f\"Accuracy: {accuracy:.3f}\")\n",
    "print(f\"Precision: {prec:.3f}\")\n",
    "print(f\"Recall: {rec:.3f}\")\n",
    "print(f\"F1-score: {f1:.3f}\")\n"
   ]
  }
 ],
 "metadata": {
  "kernelspec": {
   "display_name": ".venv",
   "language": "python",
   "name": "python3"
  },
  "language_info": {
   "codemirror_mode": {
    "name": "ipython",
    "version": 3
   },
   "file_extension": ".py",
   "mimetype": "text/x-python",
   "name": "python",
   "nbconvert_exporter": "python",
   "pygments_lexer": "ipython3",
   "version": "3.8.10"
  }
 },
 "nbformat": 4,
 "nbformat_minor": 5
}
