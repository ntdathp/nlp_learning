{
 "cells": [
  {
   "cell_type": "markdown",
   "id": "58b03f9a",
   "metadata": {},
   "source": [
    "\n",
    "# PhoBERT 5-Classes Sentiment Inference (Notebook)\n",
    "\n",
    "Notebook hoá từ script inference của bạn.  \n",
    "- Hỗ trợ cả **.txt** (mỗi dòng 1 câu) và **.csv** (cột `text`, tuỳ chọn `label`)  \n",
    "- Tiền xử lý giống lúc train (normalize + optional word segmentation)  \n",
    "- Tuỳ chọn **neutral penalty** (điều chỉnh logit lớp *neutral*)  \n",
    "- Xuất **CSV** dự đoán (+ xác suất) nếu muốn\n",
    "\n",
    "> **Gợi ý chạy:** Sửa `CFG` ở ô **Config** (đường dẫn model/input/output), sau đó chạy lần lượt các ô từ trên xuống.\n"
   ]
  },
  {
   "cell_type": "markdown",
   "id": "830a0954",
   "metadata": {},
   "source": [
    "## Config"
   ]
  },
  {
   "cell_type": "code",
   "execution_count": 2,
   "id": "c2c006b0",
   "metadata": {},
   "outputs": [
    {
     "name": "stdout",
     "output_type": "stream",
     "text": [
      "namespace(model_dir='/home/dat/llm_ws/phobert_5cls_clean', input_txt='', input_csv='/home/dat/llm_ws/data/test/vn_product_reviews_test_100_challenge.csv', max_len=160, batch_size=64, show=20, normalize=True, use_seg=False, neutral_penalty=0.0, out_csv='')\n"
     ]
    }
   ],
   "source": [
    "\n",
    "from types import SimpleNamespace\n",
    "\n",
    "# === Sửa lại cấu hình tại đây ===\n",
    "CFG = SimpleNamespace(\n",
    "    model_dir=\"/home/dat/llm_ws/phobert_5cls_clean\",       # Thư mục model đã save_model()\n",
    "    input_txt=\"\",                                           # File .txt (mỗi dòng 1 câu). Để \"\" nếu dùng CSV\n",
    "    input_csv=\"/home/dat/llm_ws/data/test/vn_product_reviews_test_100_challenge.csv\",  # File .csv (cột 'text', optional 'label')\n",
    "    max_len=160,\n",
    "    batch_size=64,\n",
    "    show=20,                                                # Số dòng print ra\n",
    "    normalize=True,\n",
    "    use_seg=False,                                          # Bật word segmentation nếu lúc train có bật\n",
    "    neutral_penalty=0.0,                                    # Ví dụ: -0.2 để \"phạt\" neutral\n",
    "    out_csv=\"\"                                              # Đường dẫn CSV để lưu (ví dụ: \"/home/dat/llm_ws/out/preds.csv\"); \"\" nếu không lưu\n",
    ")\n",
    "print(CFG)\n"
   ]
  },
  {
   "cell_type": "markdown",
   "id": "4d435f19",
   "metadata": {},
   "source": [
    "## Imports"
   ]
  },
  {
   "cell_type": "code",
   "execution_count": 3,
   "id": "207d1844",
   "metadata": {},
   "outputs": [
    {
     "name": "stderr",
     "output_type": "stream",
     "text": [
      "/home/dat/llm_ws/.venv310/lib/python3.10/site-packages/tqdm/auto.py:21: TqdmWarning: IProgress not found. Please update jupyter and ipywidgets. See https://ipywidgets.readthedocs.io/en/stable/user_install.html\n",
      "  from .autonotebook import tqdm as notebook_tqdm\n"
     ]
    }
   ],
   "source": [
    "\n",
    "import os, sys, re\n",
    "import numpy as np\n",
    "import pandas as pd\n",
    "import torch\n",
    "from sklearn.metrics import classification_report, confusion_matrix, f1_score, accuracy_score\n",
    "from transformers import AutoTokenizer, AutoModelForSequenceClassification\n",
    "\n",
    "LABELS_5 = [\"very_negative\",\"negative\",\"neutral\",\"positive\",\"very_positive\"]\n",
    "LBL2ID = {l:i for i,l in enumerate(LABELS_5)}\n",
    "ID2LBL = {i:l for l,i in LBL2ID.items()}\n"
   ]
  },
  {
   "cell_type": "markdown",
   "id": "abc13332",
   "metadata": {},
   "source": [
    "## Tiền xử lý & Helpers"
   ]
  },
  {
   "cell_type": "code",
   "execution_count": 5,
   "id": "0d14df72",
   "metadata": {},
   "outputs": [],
   "source": [
    "\n",
    "# ==== same normalize as training ====\n",
    "EMO_POS = [\"🤩\",\"🥰\",\"😍\",\"❤️\",\"👍\",\"😎\",\"👌\",\"✨\",\"🔥\",\"💯\"]\n",
    "EMO_NEG = [\"😱\",\"😡\",\"🤬\",\"💩\",\"👎\",\"😤\",\"😞\",\"😭\"]\n",
    "\n",
    "def normalize_text(s: str) -> str:\n",
    "    s = str(s).strip()\n",
    "    for e in EMO_POS: s = s.replace(e, \" EMO_POS \")\n",
    "    for e in EMO_NEG: s = s.replace(e, \" EMO_NEG \")\n",
    "    repl = {\n",
    "        \"vl\": \"rất\", \"okeee\": \"ok\", \"ưng\": \"rất thích\",\n",
    "        \"siêu siêu\": \"rất\", \"siêu thất vọng\": \"rất thất vọng\",\n",
    "        \"mãi đỉnh\": \"rất tốt\", \"best of best\": \"rất tốt\", \"best choice\": \"rất tốt\",\n",
    "        \"đỉnh của chóp\": \"rất tốt\",\n",
    "    }\n",
    "    for k,v in repl.items():\n",
    "        s = re.sub(rf\"\\b{re.escape(k)}\\b\", v, s, flags=re.IGNORECASE)\n",
    "    return s\n",
    "\n",
    "def maybe_segment(text, use_seg=False):\n",
    "    if not use_seg: return text\n",
    "    try:\n",
    "        from underthesea import word_tokenize\n",
    "        return word_tokenize(text, format=\"text\")\n",
    "    except Exception as e:\n",
    "        print(\"[Cảnh báo] Không thể import underthesea. Tắt use_seg hoặc cài đặt thư viện. Lỗi:\", e)\n",
    "        return text\n",
    "\n",
    "def softmax(x):\n",
    "    x = x - np.max(x, axis=-1, keepdims=True)\n",
    "    e = np.exp(x)\n",
    "    return e / np.sum(e, axis=-1, keepdims=True)\n",
    "\n",
    "def load_texts_from_txt(path):\n",
    "    with open(path, \"r\", encoding=\"utf-8\") as f:\n",
    "        lines = [l.strip() for l in f if l.strip()]\n",
    "    return lines, None  # no labels\n",
    "\n",
    "def load_texts_from_csv(path):\n",
    "    df = pd.read_csv(path)\n",
    "    assert \"text\" in df.columns, \"CSV phải có cột 'text'\"\n",
    "    texts = df[\"text\"].astype(str).tolist()\n",
    "    labels = None\n",
    "    if \"label\" in df.columns:\n",
    "        labels = [LBL2ID[l] if l in LBL2ID else None for l in df[\"label\"].astype(str)]\n",
    "    return texts, labels, df\n",
    "\n",
    "def batched(iterable, n):\n",
    "    for i in range(0, len(iterable), n):\n",
    "        yield iterable[i:i+n]\n",
    "\n",
    "def apply_preproc(texts, normalize=True, use_seg=False):\n",
    "    out = []\n",
    "    for t in texts:\n",
    "        s = normalize_text(t) if normalize else t\n",
    "        s = maybe_segment(s, use_seg=use_seg)\n",
    "        out.append(s)\n",
    "    return out\n",
    "\n",
    "def maybe_apply_class_bias(logits, bias_vec):\n",
    "    # bias_vec: list of floats length=5, added to logits (logit adjustment)\n",
    "    if bias_vec is None: return logits\n",
    "    b = np.array(bias_vec, dtype=np.float32).reshape(1, -1)\n",
    "    return logits + b\n"
   ]
  },
  {
   "cell_type": "markdown",
   "id": "c15040c7",
   "metadata": {},
   "source": [
    "## Load model/tokenizer"
   ]
  },
  {
   "cell_type": "code",
   "execution_count": 6,
   "id": "09deb801",
   "metadata": {},
   "outputs": [
    {
     "name": "stdout",
     "output_type": "stream",
     "text": [
      "Device: cuda\n",
      "Loaded model from: /home/dat/llm_ws/phobert_5cls_clean\n"
     ]
    }
   ],
   "source": [
    "\n",
    "device = \"cuda\" if torch.cuda.is_available() else \"cpu\"\n",
    "print(\"Device:\", device)\n",
    "tok = AutoTokenizer.from_pretrained(CFG.model_dir, use_fast=False)\n",
    "mdl = AutoModelForSequenceClassification.from_pretrained(CFG.model_dir).to(device).eval()\n",
    "print(\"Loaded model from:\", CFG.model_dir)\n"
   ]
  },
  {
   "cell_type": "markdown",
   "id": "565a5914",
   "metadata": {},
   "source": [
    "## Nạp dữ liệu đầu vào (.txt hoặc .csv)"
   ]
  },
  {
   "cell_type": "code",
   "execution_count": 8,
   "id": "2bebf5df",
   "metadata": {},
   "outputs": [
    {
     "name": "stdout",
     "output_type": "stream",
     "text": [
      "Số dòng input: 100\n"
     ]
    }
   ],
   "source": [
    "\n",
    "texts, labels, df_src = None, None, None\n",
    "if CFG.input_txt:\n",
    "    texts, _ = load_texts_from_txt(CFG.input_txt)\n",
    "elif CFG.input_csv:\n",
    "    texts, labels, df_src = load_texts_from_csv(CFG.input_csv)\n",
    "else:\n",
    "    raise SystemExit(\"Cần cấu hình input_txt hoặc input_csv\")\n",
    "\n",
    "if len(texts) == 0:\n",
    "    raise SystemExit(\"Không có câu nào để dự đoán.\")\n",
    "\n",
    "print(f\"Số dòng input: {len(texts)}\")\n"
   ]
  },
  {
   "cell_type": "markdown",
   "id": "12a3188f",
   "metadata": {},
   "source": [
    "## Tiền xử lý (giống train)"
   ]
  },
  {
   "cell_type": "code",
   "execution_count": 9,
   "id": "38fd1dc0",
   "metadata": {},
   "outputs": [
    {
     "name": "stdout",
     "output_type": "stream",
     "text": [
      "Ví dụ sau tiền xử lý: loa hỏng ngay lần 1, giao hàng kẹt mãi.\n"
     ]
    }
   ],
   "source": [
    "\n",
    "texts_proc = apply_preproc(texts, normalize=CFG.normalize, use_seg=CFG.use_seg)\n",
    "print(\"Ví dụ sau tiền xử lý:\", texts_proc[0] if texts_proc else \"(empty)\")\n"
   ]
  },
  {
   "cell_type": "markdown",
   "id": "9874bc53",
   "metadata": {},
   "source": [
    "## Dự đoán theo batch"
   ]
  },
  {
   "cell_type": "code",
   "execution_count": 10,
   "id": "56f49777",
   "metadata": {},
   "outputs": [
    {
     "name": "stdout",
     "output_type": "stream",
     "text": [
      "Hoàn tất dự đoán.\n"
     ]
    }
   ],
   "source": [
    "\n",
    "all_logits = []\n",
    "with torch.no_grad():\n",
    "    for chunk in batched(texts_proc, CFG.batch_size):\n",
    "        enc = tok(chunk, truncation=True, padding=True, max_length=CFG.max_len, return_tensors=\"pt\")\n",
    "        enc = {k: v.to(device) for k, v in enc.items()}\n",
    "        logits = mdl(**enc).logits.detach().cpu().numpy()\n",
    "        all_logits.append(logits)\n",
    "logits = np.concatenate(all_logits, axis=0)\n",
    "\n",
    "# optional class-bias (e.g., penalize neutral)\n",
    "bias = None\n",
    "if CFG.neutral_penalty != 0.0:\n",
    "    bias = [0.0, 0.0, CFG.neutral_penalty, 0.0, 0.0]  # add to logits\n",
    "logits = maybe_apply_class_bias(logits, bias)\n",
    "\n",
    "probs = softmax(logits)\n",
    "pred_ids = probs.argmax(-1)\n",
    "pred_labels = [ID2LBL[int(i)] for i in pred_ids]\n",
    "pmax = probs.max(axis=1)\n",
    "\n",
    "print(\"Hoàn tất dự đoán.\")\n"
   ]
  },
  {
   "cell_type": "markdown",
   "id": "5c3f71d2",
   "metadata": {},
   "source": [
    "## Hiển thị nhanh (first N)"
   ]
  },
  {
   "cell_type": "code",
   "execution_count": 11,
   "id": "5bdc6f25",
   "metadata": {},
   "outputs": [
    {
     "name": "stdout",
     "output_type": "stream",
     "text": [
      "\n",
      "=== Predictions (first N) ===\n",
      "very_negative   0.943  | loa hỏng ngay lần 1, giao hàng kẹt mãi.\n",
      "neutral         0.871  | robot hut bui không nổi bật, giá tạm ổn.\n",
      "positive        0.959  | Sản phẩm robot hut bui xịn sò vl, dùng khá ok.\n",
      "positive        0.959  | Sản phẩm laptop đỉnh cao 🤩, dùng khá ok.\n",
      "very_positive   0.948  | tai nghe không chê vào đâu đc, quá yêu.\n",
      "negative        0.960  | Mình thấy chuot khó chịu vc, chất lượng chưa ổn.\n",
      "neutral         0.877  | chuot ổn để dùng văn phòng, giá tạm ổn.\n",
      "neutral         0.879  | loa tạm dc, giá tạm ổn.\n",
      "very_negative   0.945  | laptop thảm họa 😱, giao hàng kẹt mãi.\n",
      "positive        0.959  | Sản phẩm man hinh mượt mà 10/10, dùng khá ok.\n",
      "negative        0.960  | Mình thấy man hinh khó chịu vc, chất lượng chưa ổn.\n",
      "neutral         0.875  | chuot không nổi bật, giá tạm ổn.\n",
      "negative        0.960  | Mình thấy chuot rep chậm, chất lượng chưa ổn.\n",
      "positive        0.959  | Sản phẩm robot hut bui đỉnh cao 🤩, dùng khá ok.\n",
      "positive        0.959  | Sản phẩm dong ho ok phết 😎, dùng khá ok.\n",
      "neutral         0.878  | loa bình thường như bao sp khác, giá tạm ổn.\n",
      "positive        0.958  | Sản phẩm laptop best choice, dùng khá ok.\n",
      "neutral         0.875  | dong ho 10/10 perfect, quá yêu.\n",
      "positive        0.959  | Sản phẩm tai nghe quá okeee, dùng khá ok.\n",
      "neutral         0.877  | loa đúng như mô tả, giá hợp lý.\n",
      "... (80 more)\n"
     ]
    }
   ],
   "source": [
    "\n",
    "show_n = min(len(texts), CFG.show)\n",
    "print(\"\\n=== Predictions (first N) ===\")\n",
    "for t, pi, p in zip(texts[:show_n], pred_ids[:show_n], pmax[:show_n]):\n",
    "    print(f\"{ID2LBL[int(pi)]:14s}  {p:0.3f}  | {t}\")\n",
    "if len(texts) > show_n:\n",
    "    print(f\"... ({len(texts)-show_n} more)\")\n"
   ]
  },
  {
   "cell_type": "markdown",
   "id": "001410fb",
   "metadata": {},
   "source": [
    "## Metrics (nếu có nhãn hợp lệ trong CSV)"
   ]
  },
  {
   "cell_type": "code",
   "execution_count": 12,
   "id": "9313b0cb",
   "metadata": {},
   "outputs": [
    {
     "name": "stdout",
     "output_type": "stream",
     "text": [
      "\n",
      "=== Metrics (on rows with valid labels) ===\n",
      "Accuracy : 0.9900\n",
      "Macro F1 : 0.9900\n",
      "\n",
      "Confusion matrix (rows=true, cols=pred):\n",
      "[[20  0  0  0  0]\n",
      " [ 0 20  0  0  0]\n",
      " [ 0  0 20  0  0]\n",
      " [ 0  0  0 20  0]\n",
      " [ 0  0  1  0 19]]\n",
      "\n",
      "Classification report:\n",
      "               precision    recall  f1-score   support\n",
      "\n",
      "very_negative     1.0000    1.0000    1.0000        20\n",
      "     negative     1.0000    1.0000    1.0000        20\n",
      "      neutral     0.9524    1.0000    0.9756        20\n",
      "     positive     1.0000    1.0000    1.0000        20\n",
      "very_positive     1.0000    0.9500    0.9744        20\n",
      "\n",
      "     accuracy                         0.9900       100\n",
      "    macro avg     0.9905    0.9900    0.9900       100\n",
      " weighted avg     0.9905    0.9900    0.9900       100\n",
      "\n"
     ]
    }
   ],
   "source": [
    "\n",
    "if labels is not None and any(l is not None for l in labels):\n",
    "    idx = [i for i,l in enumerate(labels) if l is not None]\n",
    "    y_true = np.array([labels[i] for i in idx], dtype=int)\n",
    "    y_pred = pred_ids[idx]\n",
    "    print(\"\\n=== Metrics (on rows with valid labels) ===\")\n",
    "    print(f\"Accuracy : {accuracy_score(y_true, y_pred):.4f}\")\n",
    "    print(f\"Macro F1 : {f1_score(y_true, y_pred, average='macro'):.4f}\")\n",
    "    print(\"\\nConfusion matrix (rows=true, cols=pred):\")\n",
    "    print(confusion_matrix(y_true, y_pred))\n",
    "    print(\"\\nClassification report:\")\n",
    "    print(classification_report(y_true, y_pred, target_names=LABELS_5, digits=4))\n",
    "else:\n",
    "    print(\"Không có cột label hoặc không có nhãn hợp lệ => bỏ qua tính metrics.\")\n"
   ]
  },
  {
   "cell_type": "markdown",
   "id": "09d6013d",
   "metadata": {},
   "source": [
    "## Lưu CSV (tuỳ chọn)"
   ]
  },
  {
   "cell_type": "code",
   "execution_count": null,
   "id": "2c89c5f7",
   "metadata": {},
   "outputs": [],
   "source": [
    "\n",
    "if CFG.out_csv:\n",
    "    if df_src is None:\n",
    "        df_out = pd.DataFrame({\"text\": texts})\n",
    "    else:\n",
    "        df_out = df_src.copy()\n",
    "    df_out[\"_pred\"] = pred_labels\n",
    "    df_out[\"_pmax\"] = pmax\n",
    "    for i, name in enumerate(LABELS_5):\n",
    "        df_out[f\"prob_{name}\"] = probs[:, i]\n",
    "    os.makedirs(os.path.dirname(CFG.out_csv) or \".\", exist_ok=True)\n",
    "    df_out.to_csv(CFG.out_csv, index=False, encoding=\"utf-8\")\n",
    "    print(f\"[Saved] {CFG.out_csv}\")\n",
    "else:\n",
    "    print(\"CFG.out_csv rỗng => không lưu CSV.\")\n"
   ]
  },
  {
   "cell_type": "markdown",
   "id": "4cda2c03",
   "metadata": {},
   "source": [
    "## Demo nhanh (một câu on-the-fly)"
   ]
  },
  {
   "cell_type": "code",
   "execution_count": 13,
   "id": "02234d9b",
   "metadata": {},
   "outputs": [
    {
     "name": "stdout",
     "output_type": "stream",
     "text": [
      "Text: Thiết bị robot hút bụi thất vọng ồn shop phản hồi chậm.\n",
      "Pred: negative\n",
      "Probs: {'very_negative': 0.014918637461960316, 'negative': 0.9559823274612427, 'neutral': 0.007584297563880682, 'positive': 0.011603233404457569, 'very_positive': 0.009911485947668552}\n"
     ]
    }
   ],
   "source": [
    "\n",
    "demo_text = \"Thiết bị robot hút bụi thất vọng ồn shop phản hồi chậm.\"\n",
    "demo_proc = apply_preproc([demo_text], normalize=CFG.normalize, use_seg=CFG.use_seg)\n",
    "\n",
    "with torch.no_grad():\n",
    "    enc = tok(demo_proc, truncation=True, padding=True, max_length=CFG.max_len, return_tensors=\"pt\")\n",
    "    enc = {k: v.to(device) for k, v in enc.items()}\n",
    "    logit = mdl(**enc).logits.detach().cpu().numpy()[0]\n",
    "\n",
    "if CFG.neutral_penalty != 0.0:\n",
    "    logit = maybe_apply_class_bias(logit[None, :], [0.0, 0.0, CFG.neutral_penalty, 0.0, 0.0])[0]\n",
    "\n",
    "prob = softmax(logit[None, :])[0]\n",
    "pred = ID2LBL[int(prob.argmax())]\n",
    "print(\"Text:\", demo_text)\n",
    "print(\"Pred:\", pred)\n",
    "print(\"Probs:\", {LABELS_5[i]: float(prob[i]) for i in range(len(LABELS_5))})\n"
   ]
  }
 ],
 "metadata": {
  "kernelspec": {
   "display_name": ".venv310",
   "language": "python",
   "name": "python3"
  },
  "language_info": {
   "codemirror_mode": {
    "name": "ipython",
    "version": 3
   },
   "file_extension": ".py",
   "mimetype": "text/x-python",
   "name": "python",
   "nbconvert_exporter": "python",
   "pygments_lexer": "ipython3",
   "version": "3.10.18"
  }
 },
 "nbformat": 4,
 "nbformat_minor": 5
}
